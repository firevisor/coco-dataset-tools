{
 "cells": [
  {
   "cell_type": "code",
   "execution_count": 9,
   "metadata": {},
   "outputs": [],
   "source": [
    "import pandas as pd\n",
    "import numpy as np"
   ]
  },
  {
   "cell_type": "code",
   "execution_count": 10,
   "metadata": {},
   "outputs": [],
   "source": [
    "import os"
   ]
  },
  {
   "cell_type": "code",
   "execution_count": 11,
   "metadata": {},
   "outputs": [],
   "source": [
    "dataset_path = '/Users/tin/data/defect-rec-multi'\n",
    "dataset_name = os.path.basename(dataset_path)\n",
    "anno_file = '{}/annotations/instances_{}.json'.format(dataset_path, dataset_name)\n",
    "\n",
    "train_anno_file = '{}/annotations/instances_{}_train.json'.format(dataset_path, dataset_name)\n",
    "val_anno_file = '{}/annotations/instances_{}_validate.json'.format(dataset_path, dataset_name)\n",
    "test_anno_file = '{}/annotations/instances_{}_test.json'.format(dataset_path, dataset_name)"
   ]
  },
  {
   "cell_type": "code",
   "execution_count": 12,
   "metadata": {},
   "outputs": [],
   "source": [
    "import json"
   ]
  },
  {
   "cell_type": "code",
   "execution_count": 13,
   "metadata": {},
   "outputs": [],
   "source": [
    "data = json.load(open(anno_file, 'r'))"
   ]
  },
  {
   "cell_type": "code",
   "execution_count": 14,
   "metadata": {},
   "outputs": [
    {
     "data": {
      "text/plain": [
       "dict_keys(['categories', 'images', 'annotations'])"
      ]
     },
     "execution_count": 14,
     "metadata": {},
     "output_type": "execute_result"
    }
   ],
   "source": [
    "data.keys()"
   ]
  },
  {
   "cell_type": "code",
   "execution_count": 15,
   "metadata": {},
   "outputs": [],
   "source": [
    "images = pd.DataFrame(data['images'])\n",
    "annotations = pd.DataFrame(data['annotations'])"
   ]
  },
  {
   "cell_type": "code",
   "execution_count": 16,
   "metadata": {},
   "outputs": [
    {
     "data": {
      "text/plain": [
       "Index(['annotated', 'annotating', 'category_ids', 'coco_url', 'dataset_id',\n",
       "       'date_captured', 'file_name', 'flickr_url', 'height', 'id', 'license',\n",
       "       'metadata', 'path', 'width'],\n",
       "      dtype='object')"
      ]
     },
     "execution_count": 16,
     "metadata": {},
     "output_type": "execute_result"
    }
   ],
   "source": [
    "images.columns"
   ]
  },
  {
   "cell_type": "code",
   "execution_count": 17,
   "metadata": {},
   "outputs": [
    {
     "data": {
      "text/plain": [
       "Index(['area', 'bbox', 'category_id', 'color', 'creator', 'dataset_id',\n",
       "       'height', 'id', 'image_id', 'iscrowd', 'metadata', 'segmentation',\n",
       "       'width'],\n",
       "      dtype='object')"
      ]
     },
     "execution_count": 17,
     "metadata": {},
     "output_type": "execute_result"
    }
   ],
   "source": [
    "annotations.columns"
   ]
  },
  {
   "cell_type": "code",
   "execution_count": 18,
   "metadata": {},
   "outputs": [],
   "source": [
    "ratios = [0.7, 0.2, 0.1]\n",
    "cumsum_ratios = np.cumsum(ratios)\n",
    "train_imgs, validate_imgs, test_imgs = np.split(images.sample(frac=1),\n",
    "                                                [int(cumsum_ratios[0]*len(images)), int(cumsum_ratios[1]*len(images))])"
   ]
  },
  {
   "cell_type": "code",
   "execution_count": 19,
   "metadata": {},
   "outputs": [
    {
     "name": "stdout",
     "output_type": "stream",
     "text": [
      "Index(['annotated', 'annotating', 'category_ids', 'coco_url', 'dataset_id',\n",
      "       'date_captured', 'file_name', 'flickr_url', 'height', 'id', 'license',\n",
      "       'metadata', 'path', 'width'],\n",
      "      dtype='object')\n",
      "1189\n"
     ]
    }
   ],
   "source": [
    "print(train_imgs.columns)\n",
    "print(len(train_imgs))"
   ]
  },
  {
   "cell_type": "code",
   "execution_count": 20,
   "metadata": {},
   "outputs": [
    {
     "name": "stdout",
     "output_type": "stream",
     "text": [
      "Index(['area', 'bbox', 'category_id', 'color', 'creator', 'dataset_id',\n",
      "       'height', 'id', 'image_id', 'iscrowd', 'metadata', 'segmentation',\n",
      "       'width'],\n",
      "      dtype='object')\n",
      "2386\n"
     ]
    }
   ],
   "source": [
    "print(annotations.columns)\n",
    "print(len(annotations))"
   ]
  },
  {
   "cell_type": "code",
   "execution_count": 21,
   "metadata": {},
   "outputs": [
    {
     "data": {
      "text/plain": [
       "(2386, 13)"
      ]
     },
     "execution_count": 21,
     "metadata": {},
     "output_type": "execute_result"
    }
   ],
   "source": [
    "annotations.shape"
   ]
  },
  {
   "cell_type": "code",
   "execution_count": 22,
   "metadata": {},
   "outputs": [],
   "source": [
    "train_annos = annotations[annotations['image_id'].isin(train_imgs['id'])]\n",
    "validate_annos = annotations[annotations['image_id'].isin(validate_imgs['id'])]\n",
    "test_annos = annotations[annotations['image_id'].isin(test_imgs['id'])]"
   ]
  },
  {
   "cell_type": "code",
   "execution_count": 23,
   "metadata": {},
   "outputs": [
    {
     "data": {
      "text/plain": [
       "2386"
      ]
     },
     "execution_count": 23,
     "metadata": {},
     "output_type": "execute_result"
    }
   ],
   "source": [
    "len(train_annos) + len(validate_annos) + len(test_annos)"
   ]
  },
  {
   "cell_type": "code",
   "execution_count": 24,
   "metadata": {},
   "outputs": [
    {
     "data": {
      "text/plain": [
       "1    0.583822\n",
       "5    0.196563\n",
       "3    0.125733\n",
       "2    0.093881\n",
       "Name: category_id, dtype: float64"
      ]
     },
     "execution_count": 24,
     "metadata": {},
     "output_type": "execute_result"
    }
   ],
   "source": [
    "annotations['category_id'].value_counts(normalize=True)"
   ]
  },
  {
   "cell_type": "code",
   "execution_count": 25,
   "metadata": {},
   "outputs": [
    {
     "data": {
      "text/plain": [
       "1    0.583790\n",
       "5    0.198659\n",
       "3    0.120658\n",
       "2    0.096892\n",
       "Name: category_id, dtype: float64"
      ]
     },
     "execution_count": 25,
     "metadata": {},
     "output_type": "execute_result"
    }
   ],
   "source": [
    "train_annos['category_id'].value_counts(normalize=True)"
   ]
  },
  {
   "cell_type": "code",
   "execution_count": 26,
   "metadata": {},
   "outputs": [
    {
     "data": {
      "text/plain": [
       "1    0.602794\n",
       "5    0.191617\n",
       "3    0.135729\n",
       "2    0.069860\n",
       "Name: category_id, dtype: float64"
      ]
     },
     "execution_count": 26,
     "metadata": {},
     "output_type": "execute_result"
    }
   ],
   "source": [
    "validate_annos['category_id'].value_counts(normalize=True)"
   ]
  },
  {
   "cell_type": "code",
   "execution_count": 27,
   "metadata": {},
   "outputs": [
    {
     "data": {
      "text/plain": [
       "1    0.545082\n",
       "5    0.192623\n",
       "3    0.139344\n",
       "2    0.122951\n",
       "Name: category_id, dtype: float64"
      ]
     },
     "execution_count": 27,
     "metadata": {},
     "output_type": "execute_result"
    }
   ],
   "source": [
    "test_annos['category_id'].value_counts(normalize=True)"
   ]
  },
  {
   "cell_type": "code",
   "execution_count": 28,
   "metadata": {},
   "outputs": [
    {
     "data": {
      "text/plain": [
       "dict_keys(['categories', 'images', 'annotations'])"
      ]
     },
     "execution_count": 28,
     "metadata": {},
     "output_type": "execute_result"
    }
   ],
   "source": [
    "data.keys()"
   ]
  },
  {
   "cell_type": "code",
   "execution_count": 29,
   "metadata": {},
   "outputs": [],
   "source": [
    "train_data = {'images': train_imgs.to_dict('records'),\n",
    "              'categories': data['categories'],\n",
    "              'annotations': train_annos.to_dict('records')}\n",
    "\n",
    "validate_data = {'images': validate_imgs.to_dict('records'),\n",
    "              'categories': data['categories'],\n",
    "              'annotations': validate_annos.to_dict('records')}\n",
    "\n",
    "test_data = {'images': test_imgs.to_dict('records'),\n",
    "              'categories': data['categories'],\n",
    "              'annotations': test_annos.to_dict('records')}"
   ]
  },
  {
   "cell_type": "code",
   "execution_count": 30,
   "metadata": {},
   "outputs": [],
   "source": [
    "with open(train_anno_file, 'w') as fo:\n",
    "    json.dump(train_data, fo)\n",
    "\n",
    "with open(val_anno_file, 'w') as fo:\n",
    "    json.dump(validate_data, fo)\n",
    "\n",
    "with open(test_anno_file, 'w') as fo:\n",
    "    json.dump(test_data, fo)"
   ]
  },
  {
   "cell_type": "code",
   "execution_count": 31,
   "metadata": {},
   "outputs": [],
   "source": [
    "from pycocotools.coco import COCO"
   ]
  },
  {
   "cell_type": "code",
   "execution_count": 32,
   "metadata": {},
   "outputs": [
    {
     "name": "stdout",
     "output_type": "stream",
     "text": [
      "loading annotations into memory...\n",
      "Done (t=0.04s)\n",
      "creating index...\n",
      "index created!\n"
     ]
    }
   ],
   "source": [
    "coco = COCO(train_anno_file)"
   ]
  },
  {
   "cell_type": "code",
   "execution_count": 33,
   "metadata": {},
   "outputs": [
    {
     "name": "stdout",
     "output_type": "stream",
     "text": [
      "loading annotations into memory...\n",
      "Done (t=0.01s)\n",
      "creating index...\n",
      "index created!\n"
     ]
    }
   ],
   "source": [
    "coco = COCO(val_anno_file)"
   ]
  },
  {
   "cell_type": "code",
   "execution_count": 34,
   "metadata": {},
   "outputs": [
    {
     "name": "stdout",
     "output_type": "stream",
     "text": [
      "loading annotations into memory...\n",
      "Done (t=0.01s)\n",
      "creating index...\n",
      "index created!\n"
     ]
    }
   ],
   "source": [
    "coco = COCO(test_anno_file)"
   ]
  },
  {
   "cell_type": "code",
   "execution_count": null,
   "metadata": {},
   "outputs": [],
   "source": []
  },
  {
   "cell_type": "code",
   "execution_count": null,
   "metadata": {},
   "outputs": [],
   "source": []
  }
 ],
 "metadata": {
  "kernelspec": {
   "display_name": "tf_cv",
   "language": "python",
   "name": "tf_cv"
  },
  "language_info": {
   "codemirror_mode": {
    "name": "ipython",
    "version": 3
   },
   "file_extension": ".py",
   "mimetype": "text/x-python",
   "name": "python",
   "nbconvert_exporter": "python",
   "pygments_lexer": "ipython3",
   "version": "3.6.8"
  }
 },
 "nbformat": 4,
 "nbformat_minor": 2
}
